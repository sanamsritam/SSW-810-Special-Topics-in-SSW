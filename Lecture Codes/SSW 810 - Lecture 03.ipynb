{
 "cells": [
  {
   "cell_type": "code",
   "execution_count": 1,
   "metadata": {
    "collapsed": true
   },
   "outputs": [],
   "source": [
    "# Examples from Lecture 03"
   ]
  },
  {
   "cell_type": "code",
   "execution_count": 2,
   "metadata": {
    "collapsed": true
   },
   "outputs": [],
   "source": [
    "import unittest\n",
    "\n",
    "class BuggyTriangle:    \n",
    "    def __init__(self, s1, s2, s3):\n",
    "        self.a = s1\n",
    "        self.b = s2\n",
    "        self.c = s3\n",
    "        \n",
    "    def right_triangle(self): \n",
    "       return round(((self.a ** 2) + (self.b ** 2)), 2) == \\\n",
    "              round((self.c ** 2), 2) "
   ]
  },
  {
   "cell_type": "code",
   "execution_count": 3,
   "metadata": {},
   "outputs": [
    {
     "name": "stderr",
     "output_type": "stream",
     "text": [
      ".F\n",
      "======================================================================\n",
      "FAIL: test_right_triangle (__main__.BuggyTriangleTest)\n",
      "test right triangle detection\n",
      "----------------------------------------------------------------------\n",
      "Traceback (most recent call last):\n",
      "  File \"<ipython-input-3-f4288b3be966>\", line 13, in test_right_triangle\n",
      "    self.assertTrue(BuggyTriangle(5, 4, 3).right_triangle())\n",
      "AssertionError: False is not true\n",
      "\n",
      "----------------------------------------------------------------------\n",
      "Ran 2 tests in 0.001s\n",
      "\n",
      "FAILED (failures=1)\n"
     ]
    }
   ],
   "source": [
    "class BuggyTriangleTest(unittest.TestCase):\n",
    "    def test_init(self):\n",
    "        \"\"\" Sides stored properly in __init__()\"\"\"\n",
    "        t = BuggyTriangle(3, 4, 5)\n",
    "        self.assertEqual(t.a, 3)\n",
    "        self.assertEqual(t.b, 4)\n",
    "        self.assertEqual(t.c, 5)\n",
    "        \n",
    "    def test_right_triangle(self):\n",
    "        \"\"\"  test right triangle detection \"\"\"\n",
    "        t = BuggyTriangle(3, 4, 5)\n",
    "        self.assertTrue(t.right_triangle())\n",
    "        self.assertTrue(BuggyTriangle(5, 4, 3).right_triangle())\n",
    "        self.assertFalse(BuggyTriangle(3, 3, 3).right_triangle())\n",
    "        \n",
    "if __name__ == '__main__': \n",
    "    unittest.main(argv=['first-arg-is-ignored'], exit=False)"
   ]
  },
  {
   "cell_type": "code",
   "execution_count": 4,
   "metadata": {},
   "outputs": [
    {
     "data": {
      "text/plain": [
       "False"
      ]
     },
     "execution_count": 4,
     "metadata": {},
     "output_type": "execute_result"
    }
   ],
   "source": [
    "8 == (8 ** 0.5) ** 2 # 8 == sqrt(8)2"
   ]
  },
  {
   "cell_type": "code",
   "execution_count": 5,
   "metadata": {},
   "outputs": [
    {
     "data": {
      "text/plain": [
       "8.000000000000002"
      ]
     },
     "execution_count": 5,
     "metadata": {},
     "output_type": "execute_result"
    }
   ],
   "source": [
    "(8 ** 0.5) ** 2"
   ]
  },
  {
   "cell_type": "code",
   "execution_count": 6,
   "metadata": {},
   "outputs": [
    {
     "data": {
      "text/plain": [
       "True"
      ]
     },
     "execution_count": 6,
     "metadata": {},
     "output_type": "execute_result"
    }
   ],
   "source": [
    "round(8, 2) == round(((8 ** 0.5) ** 2), 2)"
   ]
  },
  {
   "cell_type": "code",
   "execution_count": 7,
   "metadata": {
    "collapsed": true
   },
   "outputs": [],
   "source": [
    "def even_only(n):\n",
    "    \"\"\" raise ValueError if n is an odd number \"\"\"\n",
    "    if n % 2 != 0:\n",
    "        raise ValueError(str(n) + \"is an odd number\")\n",
    "        \n",
    "class EvenOnlyTest(unittest.TestCase):\n",
    "    def test_even_only(self):\n",
    "        with self.assertRaises(ValueError):\n",
    "            even_only(3)"
   ]
  },
  {
   "cell_type": "code",
   "execution_count": 9,
   "metadata": {},
   "outputs": [],
   "source": [
    "class Triangle:\n",
    "    def __init__(self, s1, s2, s3):\n",
    "        if s1 <= 0 or s2 <= 0 or s3 <= 0:\n",
    "            raise ValueError(\"side <= 0\")\n",
    "        else:   \n",
    "            self.a = s1\n",
    "            self.b = s2\n",
    "            self.c = s3\n",
    "    \n",
    "class TriangleTest(unittest.TestCase):\n",
    "    def test_valid_side(self):\n",
    "        \"\"\" verify side is a number > 0 \"\"\" \n",
    "        with self.assertRaises(ValueError):\n",
    "            Triangle(-3, 3, 3)\n",
    "        with self.assertRaises(ValueError):\n",
    "            Triangle(3, -3, 3)\n",
    "        with self.assertRaises(ValueError):\n",
    "            Triangle(3, 3, -3)"
   ]
  },
  {
   "cell_type": "code",
   "execution_count": null,
   "metadata": {
    "collapsed": true
   },
   "outputs": [],
   "source": []
  }
 ],
 "metadata": {
  "kernelspec": {
   "display_name": "Python 3",
   "language": "python",
   "name": "python3"
  },
  "language_info": {
   "codemirror_mode": {
    "name": "ipython",
    "version": 3
   },
   "file_extension": ".py",
   "mimetype": "text/x-python",
   "name": "python",
   "nbconvert_exporter": "python",
   "pygments_lexer": "ipython3",
   "version": "3.8.3"
  }
 },
 "nbformat": 4,
 "nbformat_minor": 1
}
