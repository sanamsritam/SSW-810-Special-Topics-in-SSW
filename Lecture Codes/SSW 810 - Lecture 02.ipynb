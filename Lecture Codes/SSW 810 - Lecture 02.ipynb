{
 "cells": [
  {
   "cell_type": "code",
   "execution_count": 1,
   "metadata": {
    "collapsed": true
   },
   "outputs": [],
   "source": [
    "# Examples from Lecture 02"
   ]
  },
  {
   "cell_type": "code",
   "execution_count": 1,
   "metadata": {},
   "outputs": [
    {
     "name": "stdout",
     "output_type": "stream",
     "text": [
      "Rectangle: area=8 perimeter=12\n"
     ]
    }
   ],
   "source": [
    "# Describe a rectangle\n",
    "length = 4\n",
    "width = 2\n",
    "area = length * width\n",
    "perimeter = width * 2 + length * 2\n",
    "print(f\"Rectangle: area={area} perimeter={perimeter}\")"
   ]
  },
  {
   "cell_type": "code",
   "execution_count": 7,
   "metadata": {},
   "outputs": [
    {
     "name": "stdout",
     "output_type": "stream",
     "text": [
      "Rectangle1: area=8 perimeter=12\n",
      "Rectangle2: area=15 perimeter=14\n"
     ]
    }
   ],
   "source": [
    "# Describe a rectangle\n",
    "length1 = 4\n",
    "width1 = 2\n",
    "area1 = length1 * width1\n",
    "perimeter1 = width1 * 2 + length1 * 2\n",
    "print(f\"Rectangle1: area={area1} perimeter={perimeter1}\")\n",
    "\n",
    "# Describe another rectangle\n",
    "length2 = 5\n",
    "width2 = 3\n",
    "area2 = length2 * width2\n",
    "perimeter2 = width1 * 2 + length2 * 2\n",
    "print(f\"Rectangle2: area={area2} perimeter={perimeter2}\")"
   ]
  },
  {
   "cell_type": "code",
   "execution_count": 3,
   "metadata": {},
   "outputs": [
    {
     "name": "stdout",
     "output_type": "stream",
     "text": [
      "Rectangle1: area=8 perimeter=12\n",
      "Rectangle2: area=15 perimeter=16\n"
     ]
    }
   ],
   "source": [
    "class Rectangle:\n",
    "    \"\"\" Rectangle class \"\"\"\n",
    "    def __init__(self, label, length, width):\n",
    "        self.label = label\n",
    "        self.length = length\n",
    "        self.width = width\n",
    "        \n",
    "    def area(self):\n",
    "        return self.length * self.width\n",
    "    \n",
    "    def perimeter(self):\n",
    "        return self.length * 2 + self.width * 2\n",
    "    \n",
    "rectangle1 = Rectangle(\"Rectangle1\", 4, 2)\n",
    "rectangle2 = Rectangle(\"Rectangle2\", 5, 3)\n",
    "print(f\"Rectangle1: area={rectangle1.area()} perimeter={rectangle1.perimeter()}\")\n",
    "print(f\"Rectangle2: area={rectangle2.area()} perimeter={rectangle2.perimeter()}\")"
   ]
  },
  {
   "cell_type": "code",
   "execution_count": 6,
   "metadata": {},
   "outputs": [
    {
     "name": "stdout",
     "output_type": "stream",
     "text": [
      "<__main__.Rectangle object at 0x101bc9eb8>\n",
      "Rectangle1: area=8 perimeter=12\n"
     ]
    }
   ],
   "source": [
    "class Rectangle:\n",
    "    \"\"\" Rectangle class \"\"\"\n",
    "    def __init__(self, label, length, width):\n",
    "        self.label = label\n",
    "        self.length = length\n",
    "        self.width = width\n",
    "        \n",
    "    def area(self):\n",
    "        return self.length * self.width\n",
    "    \n",
    "    def perimeter(self):\n",
    "        return self.length * 2 + self.width * 2\n",
    "    \n",
    "rectangle1 = Rectangle(\"Rectangle1\", 4, 2)\n",
    "print(rectangle1)\n",
    "print(f\"Rectangle1: area={rectangle1.area()} perimeter={rectangle1.perimeter()}\")"
   ]
  },
  {
   "cell_type": "code",
   "execution_count": 10,
   "metadata": {},
   "outputs": [
    {
     "name": "stdout",
     "output_type": "stream",
     "text": [
      "Rectangle1: area=8 perimeter=12\n"
     ]
    }
   ],
   "source": [
    "class Rectangle:\n",
    "    \"\"\" Rectangle class \"\"\"\n",
    "    def __init__(self, label, length, width):\n",
    "        self.label = label\n",
    "        self.length = length\n",
    "        self.width = width\n",
    "        \n",
    "    def area(self):\n",
    "        return self.length * self.width\n",
    "    \n",
    "    def perimeter(self):\n",
    "        return self.length * 2 + self.width * 2\n",
    "    \n",
    "    def __str__(self):\n",
    "        return f\"{self.label}: area={str(self.area())} perimeter={str(self.perimeter())}\"\n",
    "    \n",
    "rectangle1 = Rectangle(\"Rectangle1\", 4, 2)\n",
    "\n",
    "print(rectangle1)"
   ]
  },
  {
   "cell_type": "code",
   "execution_count": 7,
   "metadata": {
    "collapsed": true
   },
   "outputs": [],
   "source": [
    "class Oops:\n",
    "    def init(self, n): # OOPS!  That should be __init__(self, n)\n",
    "        self.n = n"
   ]
  },
  {
   "cell_type": "code",
   "execution_count": 8,
   "metadata": {},
   "outputs": [
    {
     "ename": "TypeError",
     "evalue": "object() takes no parameters",
     "output_type": "error",
     "traceback": [
      "\u001b[0;31m---------------------------------------------------------------------------\u001b[0m",
      "\u001b[0;31mTypeError\u001b[0m                                 Traceback (most recent call last)",
      "\u001b[0;32m<ipython-input-8-0724bdce7f30>\u001b[0m in \u001b[0;36m<module>\u001b[0;34m()\u001b[0m\n\u001b[0;32m----> 1\u001b[0;31m \u001b[0moops\u001b[0m \u001b[0;34m=\u001b[0m \u001b[0mOops\u001b[0m\u001b[0;34m(\u001b[0m\u001b[0;36m3\u001b[0m\u001b[0;34m)\u001b[0m\u001b[0;34m\u001b[0m\u001b[0m\n\u001b[0m",
      "\u001b[0;31mTypeError\u001b[0m: object() takes no parameters"
     ]
    }
   ],
   "source": [
    "oops = Oops(3)"
   ]
  },
  {
   "cell_type": "code",
   "execution_count": 9,
   "metadata": {
    "collapsed": true
   },
   "outputs": [],
   "source": [
    "class College:\n",
    "    def __init__(self): \n",
    "        \"\"\" Class College has no attributes by default \"\"\""
   ]
  },
  {
   "cell_type": "code",
   "execution_count": 10,
   "metadata": {},
   "outputs": [
    {
     "data": {
      "text/plain": [
       "'Attila'"
      ]
     },
     "execution_count": 10,
     "metadata": {},
     "output_type": "execute_result"
    }
   ],
   "source": [
    "Stevens = College()  # a new instance of class College\n",
    "Stevens.mascot = 'Attila'\n",
    "Stevens.mascot"
   ]
  },
  {
   "cell_type": "code",
   "execution_count": 11,
   "metadata": {},
   "outputs": [
    {
     "ename": "AttributeError",
     "evalue": "'College' object has no attribute 'mascot'",
     "output_type": "error",
     "traceback": [
      "\u001b[0;31m---------------------------------------------------------------------------\u001b[0m",
      "\u001b[0;31mAttributeError\u001b[0m                            Traceback (most recent call last)",
      "\u001b[0;32m<ipython-input-11-11ae586249ff>\u001b[0m in \u001b[0;36m<module>\u001b[0;34m()\u001b[0m\n\u001b[1;32m      1\u001b[0m \u001b[0mColumbia\u001b[0m \u001b[0;34m=\u001b[0m \u001b[0mCollege\u001b[0m\u001b[0;34m(\u001b[0m\u001b[0;34m)\u001b[0m \u001b[0;31m# another instance of class College\u001b[0m\u001b[0;34m\u001b[0m\u001b[0m\n\u001b[0;32m----> 2\u001b[0;31m \u001b[0mColumbia\u001b[0m\u001b[0;34m.\u001b[0m\u001b[0mmascot\u001b[0m\u001b[0;34m\u001b[0m\u001b[0m\n\u001b[0m",
      "\u001b[0;31mAttributeError\u001b[0m: 'College' object has no attribute 'mascot'"
     ]
    }
   ],
   "source": [
    "Columbia = College() # another instance of class College  \n",
    "Columbia.mascot"
   ]
  },
  {
   "cell_type": "code",
   "execution_count": 12,
   "metadata": {
    "collapsed": true
   },
   "outputs": [],
   "source": [
    "class College:\n",
    "    __slots__ = ['mascot'] # predefine and restrict that attributes\n",
    "    \n",
    "    def __init__(self, mascot): \n",
    "        self.mascot = mascot"
   ]
  },
  {
   "cell_type": "code",
   "execution_count": 13,
   "metadata": {},
   "outputs": [
    {
     "data": {
      "text/plain": [
       "'Attilla'"
      ]
     },
     "execution_count": 13,
     "metadata": {},
     "output_type": "execute_result"
    }
   ],
   "source": [
    "stevens = College('Attilla')\n",
    "stevens.mascot"
   ]
  },
  {
   "cell_type": "code",
   "execution_count": 14,
   "metadata": {},
   "outputs": [
    {
     "ename": "AttributeError",
     "evalue": "'College' object has no attribute 'ascot'",
     "output_type": "error",
     "traceback": [
      "\u001b[0;31m---------------------------------------------------------------------------\u001b[0m",
      "\u001b[0;31mAttributeError\u001b[0m                            Traceback (most recent call last)",
      "\u001b[0;32m<ipython-input-14-1168d944acdf>\u001b[0m in \u001b[0;36m<module>\u001b[0;34m()\u001b[0m\n\u001b[0;32m----> 1\u001b[0;31m \u001b[0mstevens\u001b[0m\u001b[0;34m.\u001b[0m\u001b[0mascot\u001b[0m \u001b[0;34m=\u001b[0m \u001b[0;34m\"Attilla\"\u001b[0m\u001b[0;34m\u001b[0m\u001b[0m\n\u001b[0m",
      "\u001b[0;31mAttributeError\u001b[0m: 'College' object has no attribute 'ascot'"
     ]
    }
   ],
   "source": [
    "stevens.ascot = \"Attilla\""
   ]
  },
  {
   "cell_type": "code",
   "execution_count": 15,
   "metadata": {
    "collapsed": true
   },
   "outputs": [],
   "source": [
    "class Foo:\n",
    "    def __init__(self):\n",
    "        self.cnt = 0 "
   ]
  },
  {
   "cell_type": "code",
   "execution_count": 16,
   "metadata": {},
   "outputs": [
    {
     "data": {
      "text/plain": [
       "0"
      ]
     },
     "execution_count": 16,
     "metadata": {},
     "output_type": "execute_result"
    }
   ],
   "source": [
    "f = Foo()  # a new instance of class Foo\n",
    "f.ctn = 2\n",
    "f.cnt"
   ]
  },
  {
   "cell_type": "code",
   "execution_count": 14,
   "metadata": {},
   "outputs": [
    {
     "name": "stdout",
     "output_type": "stream",
     "text": [
      "Square.__init__: Square1\n"
     ]
    },
    {
     "ename": "AttributeError",
     "evalue": "'Square' object has no attribute 'label'",
     "output_type": "error",
     "traceback": [
      "\u001b[0;31m---------------------------------------------------------------------------\u001b[0m",
      "\u001b[0;31mAttributeError\u001b[0m                            Traceback (most recent call last)",
      "\u001b[0;32m<ipython-input-14-42bf21c45cd3>\u001b[0m in \u001b[0;36m<module>\u001b[0;34m()\u001b[0m\n\u001b[1;32m     22\u001b[0m \u001b[0;34m\u001b[0m\u001b[0m\n\u001b[1;32m     23\u001b[0m \u001b[0msquare1\u001b[0m \u001b[0;34m=\u001b[0m \u001b[0mSquare\u001b[0m\u001b[0;34m(\u001b[0m\u001b[0;34m\"Square1\"\u001b[0m\u001b[0;34m,\u001b[0m \u001b[0;36m4\u001b[0m\u001b[0;34m)\u001b[0m\u001b[0;34m\u001b[0m\u001b[0m\n\u001b[0;32m---> 24\u001b[0;31m \u001b[0mprint\u001b[0m\u001b[0;34m(\u001b[0m\u001b[0msquare1\u001b[0m\u001b[0;34m)\u001b[0m\u001b[0;34m\u001b[0m\u001b[0m\n\u001b[0m",
      "\u001b[0;32m<ipython-input-14-42bf21c45cd3>\u001b[0m in \u001b[0;36m__str__\u001b[0;34m(self)\u001b[0m\n\u001b[1;32m     14\u001b[0m \u001b[0;34m\u001b[0m\u001b[0m\n\u001b[1;32m     15\u001b[0m     \u001b[0;32mdef\u001b[0m \u001b[0m__str__\u001b[0m\u001b[0;34m(\u001b[0m\u001b[0mself\u001b[0m\u001b[0;34m)\u001b[0m\u001b[0;34m:\u001b[0m\u001b[0;34m\u001b[0m\u001b[0m\n\u001b[0;32m---> 16\u001b[0;31m         \u001b[0;32mreturn\u001b[0m \u001b[0;34mf\"{self.label}: area={str(self.area())} perimeter={str(self.perimeter())}\"\u001b[0m\u001b[0;34m\u001b[0m\u001b[0m\n\u001b[0m\u001b[1;32m     17\u001b[0m \u001b[0;34m\u001b[0m\u001b[0m\n\u001b[1;32m     18\u001b[0m \u001b[0;32mclass\u001b[0m \u001b[0mSquare\u001b[0m\u001b[0;34m(\u001b[0m\u001b[0mRectangle\u001b[0m\u001b[0;34m)\u001b[0m\u001b[0;34m:\u001b[0m\u001b[0;34m\u001b[0m\u001b[0m\n",
      "\u001b[0;31mAttributeError\u001b[0m: 'Square' object has no attribute 'label'"
     ]
    }
   ],
   "source": [
    "class Rectangle:\n",
    "    \"\"\" Rectangle class \"\"\"\n",
    "    def __init__(self, label, length, width):\n",
    "        print(f\"Rectangle.__init__: {label}\")\n",
    "        self.label = label\n",
    "        self.length = length\n",
    "        self.width = width\n",
    "        \n",
    "    def area(self):\n",
    "        return self.length * self.width\n",
    "    \n",
    "    def perimeter(self):\n",
    "        return self.length * 2 + self.width * 2\n",
    "    \n",
    "    def __str__(self):\n",
    "        return f\"{self.label}: area={str(self.area())} perimeter={str(self.perimeter())}\"\n",
    "        \n",
    "class Square(Rectangle):\n",
    "    \"\"\" Square is-a Rectangle. Inherit all methods from Rectangle \"\"\"\n",
    "    def __init__(self, label, length):\n",
    "        print(f\"Square.__init__: {label}\")\n",
    "    \n",
    "square1 = Square(\"Square1\", 4)\n",
    "print(square1)"
   ]
  },
  {
   "cell_type": "code",
   "execution_count": 19,
   "metadata": {},
   "outputs": [
    {
     "name": "stdout",
     "output_type": "stream",
     "text": [
      "Rectangle.__init__: Square1\n",
      "Square1: area=16 perimeter=16\n"
     ]
    }
   ],
   "source": [
    "class Rectangle:\n",
    "    \"\"\" Rectangle class \"\"\"\n",
    "    def __init__(self, label, length, width):\n",
    "        print(f\"Rectangle.__init__: {label}\")\n",
    "        self.label = label\n",
    "        self.length = length\n",
    "        self.width = width\n",
    "        \n",
    "    def area(self):\n",
    "        return self.length * self.width\n",
    "    \n",
    "    def perimeter(self):\n",
    "        return self.length * 2 + self.width * 2\n",
    "    \n",
    "    def __str__(self):\n",
    "        return f\"{self.label}: area={str(self.area())} perimeter={str(self.perimeter())}\"\n",
    "        \n",
    "class Square(Rectangle):\n",
    "    \"\"\" Square is-a Rectangle. Inherit all methods from Rectangle \"\"\"\n",
    "    \n",
    "square1 = Square(\"Square1\", 4, 4)\n",
    "print(square1)"
   ]
  },
  {
   "cell_type": "code",
   "execution_count": 18,
   "metadata": {},
   "outputs": [
    {
     "name": "stdout",
     "output_type": "stream",
     "text": [
      "Square.__init__: Square1\n"
     ]
    },
    {
     "ename": "AttributeError",
     "evalue": "'Square' object has no attribute 'label'",
     "output_type": "error",
     "traceback": [
      "\u001b[0;31m---------------------------------------------------------------------------\u001b[0m",
      "\u001b[0;31mAttributeError\u001b[0m                            Traceback (most recent call last)",
      "\u001b[0;32m<ipython-input-18-2197835d6899>\u001b[0m in \u001b[0;36m<module>\u001b[0;34m()\u001b[0m\n\u001b[1;32m     22\u001b[0m \u001b[0;34m\u001b[0m\u001b[0m\n\u001b[1;32m     23\u001b[0m \u001b[0msquare1\u001b[0m \u001b[0;34m=\u001b[0m \u001b[0mSquare\u001b[0m\u001b[0;34m(\u001b[0m\u001b[0;34m\"Square1\"\u001b[0m\u001b[0;34m,\u001b[0m \u001b[0;36m4\u001b[0m\u001b[0;34m)\u001b[0m\u001b[0;34m\u001b[0m\u001b[0m\n\u001b[0;32m---> 24\u001b[0;31m \u001b[0mprint\u001b[0m\u001b[0;34m(\u001b[0m\u001b[0msquare1\u001b[0m\u001b[0;34m)\u001b[0m\u001b[0;34m\u001b[0m\u001b[0m\n\u001b[0m",
      "\u001b[0;32m<ipython-input-18-2197835d6899>\u001b[0m in \u001b[0;36m__str__\u001b[0;34m(self)\u001b[0m\n\u001b[1;32m     14\u001b[0m \u001b[0;34m\u001b[0m\u001b[0m\n\u001b[1;32m     15\u001b[0m     \u001b[0;32mdef\u001b[0m \u001b[0m__str__\u001b[0m\u001b[0;34m(\u001b[0m\u001b[0mself\u001b[0m\u001b[0;34m)\u001b[0m\u001b[0;34m:\u001b[0m\u001b[0;34m\u001b[0m\u001b[0m\n\u001b[0;32m---> 16\u001b[0;31m         \u001b[0;32mreturn\u001b[0m \u001b[0;34mf\"{self.label}: area={str(self.area())} perimeter={str(self.perimeter())}\"\u001b[0m\u001b[0;34m\u001b[0m\u001b[0m\n\u001b[0m\u001b[1;32m     17\u001b[0m \u001b[0;34m\u001b[0m\u001b[0m\n\u001b[1;32m     18\u001b[0m \u001b[0;32mclass\u001b[0m \u001b[0mSquare\u001b[0m\u001b[0;34m(\u001b[0m\u001b[0mRectangle\u001b[0m\u001b[0;34m)\u001b[0m\u001b[0;34m:\u001b[0m\u001b[0;34m\u001b[0m\u001b[0m\n",
      "\u001b[0;31mAttributeError\u001b[0m: 'Square' object has no attribute 'label'"
     ]
    }
   ],
   "source": [
    "class Rectangle:\n",
    "    \"\"\" Rectangle class \"\"\"\n",
    "    def __init__(self, label, length, width):\n",
    "        print(f\"Rectangle.__init__: {label}\")\n",
    "        self.label = label\n",
    "        self.length = length\n",
    "        self.width = width\n",
    "        \n",
    "    def area(self):\n",
    "        return self.length * self.width\n",
    "    \n",
    "    def perimeter(self):\n",
    "        return self.length * 2 + self.width * 2\n",
    "    \n",
    "    def __str__(self):\n",
    "        return f\"{self.label}: area={str(self.area())} perimeter={str(self.perimeter())}\"\n",
    "        \n",
    "class Square(Rectangle):\n",
    "    \"\"\" Square is-a Rectangle. Inherit all methods from Rectangle \"\"\"\n",
    "    def __init__(self, label, len):\n",
    "        print(f\"Square.__init__: {label}\")\n",
    "    \n",
    "square1 = Square(\"Square1\", 4)\n",
    "print(square1)"
   ]
  },
  {
   "cell_type": "code",
   "execution_count": 21,
   "metadata": {},
   "outputs": [
    {
     "name": "stdout",
     "output_type": "stream",
     "text": [
      "Square.__init__: Square1\n",
      "Rectangle.__init__: Square1\n",
      "Square1: area=16 perimeter=16\n"
     ]
    }
   ],
   "source": [
    "class Rectangle:\n",
    "    \"\"\" Rectangle class \"\"\"\n",
    "    def __init__(self, label, length, width):\n",
    "        print(f\"Rectangle.__init__: {label}\")\n",
    "        self.label = label\n",
    "        self.length = length\n",
    "        self.width = width\n",
    "        \n",
    "    def area(self):\n",
    "        return self.length * self.width\n",
    "    \n",
    "    def perimeter(self):\n",
    "        return self.length * 2 + self.width * 2\n",
    "    \n",
    "    def __str__(self):\n",
    "        return f\"{self.label}: area={str(self.area())} perimeter={str(self.perimeter())}\"\n",
    "        \n",
    "class Square(Rectangle):\n",
    "    \"\"\" Square is-a Rectangle. Inherit all methods from Rectangle \"\"\"\n",
    "    def __init__(self, label, len):\n",
    "        print(f\"Square.__init__: {label}\")\n",
    "        super().__init__(label, len, len)\n",
    "    \n",
    "square1 = Square(\"Square1\", 4)\n",
    "print(square1)"
   ]
  },
  {
   "cell_type": "code",
   "execution_count": 23,
   "metadata": {},
   "outputs": [
    {
     "name": "stdout",
     "output_type": "stream",
     "text": [
      "<Employee: Nanda developer>\n",
      "Nanda is busy developing\n",
      "<Employee: Sujit tester>\n",
      "Sujit is busy testing\n"
     ]
    }
   ],
   "source": [
    "class Employee:\n",
    "    job = {'developer': 'developing', 'tester': 'testing'}\n",
    "    \n",
    "    def __init__(self, name, title):\n",
    "        self.name = name\n",
    "        self.title = title \n",
    "        \n",
    "    def work(self):\n",
    "        print(f\"{self.name} is busy {Employee.job[self.title]}\")\n",
    "        \n",
    "    def __str__(self):\n",
    "        return(f\"<Employee: {self.name} {self.title}>\")\n",
    "    \n",
    "nanda = Employee('Nanda', 'developer')\n",
    "print(nanda)\n",
    "nanda.work()\n",
    "sujit = Employee('Sujit', 'tester')\n",
    "print(sujit)\n",
    "sujit.work()"
   ]
  },
  {
   "cell_type": "code",
   "execution_count": 24,
   "metadata": {},
   "outputs": [
    {
     "name": "stdout",
     "output_type": "stream",
     "text": [
      "Jim is managing a team of 20\n",
      "<Employee: Jim manager>\n"
     ]
    }
   ],
   "source": [
    "class Employee:\n",
    "    job = {'developer': 'developing', 'tester': 'testing'}\n",
    "    \n",
    "    def __init__(self, name, title):\n",
    "        self.name = name\n",
    "        self.title = title \n",
    "        \n",
    "    def work(self):\n",
    "        print(f\"{self.name} is busy {Employee.job[self.title]}\")\n",
    "        \n",
    "    def __str__(self):\n",
    "        return(f\"<Employee: {self.name} {self.title}>\")\n",
    "    \n",
    "class Manager(Employee):\n",
    "    def __init__(self, name, sz):\n",
    "        super().__init__(name, \"manager\") # call Employee.__init__()\n",
    "        self.team_size = sz # unique to Manager\n",
    "        \n",
    "    def work(self):\n",
    "        print(f\"{self.name} is managing a team of {str(self.team_size)}\")\n",
    "        \n",
    "    # inherit __str__() from Employee\n",
    "    \n",
    "jim = Manager('Jim', 20)\n",
    "jim.work()\n",
    "print(jim)"
   ]
  },
  {
   "cell_type": "code",
   "execution_count": 22,
   "metadata": {},
   "outputs": [
    {
     "ename": "ZeroDivisionError",
     "evalue": "division by zero",
     "output_type": "error",
     "traceback": [
      "\u001b[0;31m---------------------------------------------------------------------------\u001b[0m",
      "\u001b[0;31mZeroDivisionError\u001b[0m                         Traceback (most recent call last)",
      "\u001b[0;32m<ipython-input-22-2b706ee9dd8e>\u001b[0m in \u001b[0;36m<module>\u001b[0;34m()\u001b[0m\n\u001b[0;32m----> 1\u001b[0;31m \u001b[0;36m3\u001b[0m \u001b[0;34m/\u001b[0m \u001b[0;36m0\u001b[0m\u001b[0;34m\u001b[0m\u001b[0m\n\u001b[0m",
      "\u001b[0;31mZeroDivisionError\u001b[0m: division by zero"
     ]
    }
   ],
   "source": [
    "3 / 0"
   ]
  },
  {
   "cell_type": "code",
   "execution_count": 23,
   "metadata": {},
   "outputs": [
    {
     "ename": "ValueError",
     "evalue": "invalid literal for int() with base 10: 'zero'",
     "output_type": "error",
     "traceback": [
      "\u001b[0;31m---------------------------------------------------------------------------\u001b[0m",
      "\u001b[0;31mValueError\u001b[0m                                Traceback (most recent call last)",
      "\u001b[0;32m<ipython-input-23-14d295b27bf3>\u001b[0m in \u001b[0;36m<module>\u001b[0;34m()\u001b[0m\n\u001b[0;32m----> 1\u001b[0;31m \u001b[0mint\u001b[0m\u001b[0;34m(\u001b[0m\u001b[0;34m'zero'\u001b[0m\u001b[0;34m)\u001b[0m\u001b[0;34m\u001b[0m\u001b[0m\n\u001b[0m",
      "\u001b[0;31mValueError\u001b[0m: invalid literal for int() with base 10: 'zero'"
     ]
    }
   ],
   "source": [
    "int('zero')"
   ]
  },
  {
   "cell_type": "code",
   "execution_count": 24,
   "metadata": {},
   "outputs": [
    {
     "ename": "FileNotFoundError",
     "evalue": "[Errno 2] No such file or directory: \"file doesn't exit\"",
     "output_type": "error",
     "traceback": [
      "\u001b[0;31m---------------------------------------------------------------------------\u001b[0m",
      "\u001b[0;31mFileNotFoundError\u001b[0m                         Traceback (most recent call last)",
      "\u001b[0;32m<ipython-input-24-caf73ad4f32e>\u001b[0m in \u001b[0;36m<module>\u001b[0;34m()\u001b[0m\n\u001b[0;32m----> 1\u001b[0;31m \u001b[0mopen\u001b[0m\u001b[0;34m(\u001b[0m\u001b[0;34m\"file doesn't exit\"\u001b[0m\u001b[0;34m)\u001b[0m\u001b[0;34m\u001b[0m\u001b[0m\n\u001b[0m",
      "\u001b[0;31mFileNotFoundError\u001b[0m: [Errno 2] No such file or directory: \"file doesn't exit\""
     ]
    }
   ],
   "source": [
    "open(\"file doesn't exit\")"
   ]
  },
  {
   "cell_type": "code",
   "execution_count": 26,
   "metadata": {},
   "outputs": [
    {
     "name": "stdout",
     "output_type": "stream",
     "text": [
      "Enter an integer between 1 and 20:3\n",
      "3 + 1 == 4\n"
     ]
    }
   ],
   "source": [
    "inp = input(\"Enter an integer between 1 and 20:\")\n",
    "try:  \n",
    "    n = int(inp)\n",
    "except ValueError:\n",
    "    print(f\"{inp} is not an integer\")\n",
    "else:\n",
    "    print(f\"{n} + 1 == {n + 1}\")"
   ]
  },
  {
   "cell_type": "code",
   "execution_count": 26,
   "metadata": {},
   "outputs": [
    {
     "name": "stdout",
     "output_type": "stream",
     "text": [
      "Enter an integer between 1 and 20:3\n",
      "3  + 1 == 4\n"
     ]
    }
   ],
   "source": [
    "inp = input(\"Enter an integer between 1 and 20:\")\n",
    "try:  \n",
    "    n = int(inp)\n",
    "except ValueError:\n",
    "    print(f\"{inp} is not an integer\")\n",
    "else:\n",
    "    print(f\"{n} + 1 == {n + 1}\")"
   ]
  },
  {
   "cell_type": "code",
   "execution_count": 27,
   "metadata": {},
   "outputs": [
    {
     "name": "stdout",
     "output_type": "stream",
     "text": [
      "Enter file name: not_a_valid_file\n",
      "Can't open not_a_valid_file\n"
     ]
    }
   ],
   "source": [
    "file_name = input(\"Enter file name: \")\n",
    "try:\n",
    "    fp = open(file_name, 'r')\n",
    "except FileNotFoundError:\n",
    "    print(f\"Can't open {file_name}\")\n",
    "else:\n",
    "    with fp:\n",
    "        for line in fp: # fp moves line by line\n",
    "            # process the line\n",
    "            print(line)"
   ]
  },
  {
   "cell_type": "code",
   "execution_count": 28,
   "metadata": {},
   "outputs": [
    {
     "ename": "ValueError",
     "evalue": "Oops! Something is wrong",
     "output_type": "error",
     "traceback": [
      "\u001b[0;31m---------------------------------------------------------------------------\u001b[0m",
      "\u001b[0;31mValueError\u001b[0m                                Traceback (most recent call last)",
      "\u001b[0;32m<ipython-input-28-726fadd1505c>\u001b[0m in \u001b[0;36m<module>\u001b[0;34m()\u001b[0m\n\u001b[0;32m----> 1\u001b[0;31m \u001b[0;32mraise\u001b[0m \u001b[0mValueError\u001b[0m\u001b[0;34m(\u001b[0m\u001b[0;34m\"Oops! Something is wrong\"\u001b[0m\u001b[0;34m)\u001b[0m\u001b[0;34m\u001b[0m\u001b[0m\n\u001b[0m",
      "\u001b[0;31mValueError\u001b[0m: Oops! Something is wrong"
     ]
    }
   ],
   "source": [
    "raise ValueError(\"Oops! Something is wrong\")"
   ]
  },
  {
   "cell_type": "code",
   "execution_count": 28,
   "metadata": {},
   "outputs": [
    {
     "name": "stdout",
     "output_type": "stream",
     "text": [
      "Enter an integer between 1 and 20:1\n",
      "1 + 1 == 2\n"
     ]
    }
   ],
   "source": [
    "inp = input(\"Enter an integer between 1 and 20:\")\n",
    "try:  \n",
    "    n = int(inp)\n",
    "except:  # DON'T USE UNQUALIFIED except STATEMENTS!!!\n",
    "    print(f\"{inp} is not an integer\")\n",
    "else:\n",
    "    print(f\"{n} + 1 == {n + 1}\")"
   ]
  },
  {
   "cell_type": "code",
   "execution_count": 30,
   "metadata": {},
   "outputs": [
    {
     "ename": "ZeroDivisionError",
     "evalue": "division by zero",
     "output_type": "error",
     "traceback": [
      "\u001b[0;31m---------------------------------------------------------------------------\u001b[0m",
      "\u001b[0;31mZeroDivisionError\u001b[0m                         Traceback (most recent call last)",
      "\u001b[0;32m<ipython-input-30-2b706ee9dd8e>\u001b[0m in \u001b[0;36m<module>\u001b[0;34m()\u001b[0m\n\u001b[0;32m----> 1\u001b[0;31m \u001b[0;36m3\u001b[0m \u001b[0;34m/\u001b[0m \u001b[0;36m0\u001b[0m\u001b[0;34m\u001b[0m\u001b[0m\n\u001b[0m",
      "\u001b[0;31mZeroDivisionError\u001b[0m: division by zero"
     ]
    }
   ],
   "source": [
    "3 / 0"
   ]
  },
  {
   "cell_type": "code",
   "execution_count": 31,
   "metadata": {},
   "outputs": [
    {
     "ename": "NameError",
     "evalue": "name 'num' is not defined",
     "output_type": "error",
     "traceback": [
      "\u001b[0;31m---------------------------------------------------------------------------\u001b[0m",
      "\u001b[0;31mNameError\u001b[0m                                 Traceback (most recent call last)",
      "\u001b[0;32m<ipython-input-31-b5cafe226431>\u001b[0m in \u001b[0;36m<module>\u001b[0;34m()\u001b[0m\n\u001b[1;32m      1\u001b[0m \u001b[0;32mtry\u001b[0m\u001b[0;34m:\u001b[0m\u001b[0;34m\u001b[0m\u001b[0m\n\u001b[0;32m----> 2\u001b[0;31m     \u001b[0mquotient\u001b[0m \u001b[0;34m=\u001b[0m \u001b[0mnum\u001b[0m \u001b[0;34m/\u001b[0m \u001b[0mdenom\u001b[0m\u001b[0;34m\u001b[0m\u001b[0m\n\u001b[0m\u001b[1;32m      3\u001b[0m \u001b[0;32mexcept\u001b[0m \u001b[0mZeroDivisionError\u001b[0m\u001b[0;34m:\u001b[0m\u001b[0;34m\u001b[0m\u001b[0m\n\u001b[1;32m      4\u001b[0m     \u001b[0mprint\u001b[0m\u001b[0;34m(\u001b[0m\u001b[0;34m\"Oops! Divide by 0\"\u001b[0m\u001b[0;34m)\u001b[0m\u001b[0;34m\u001b[0m\u001b[0m\n",
      "\u001b[0;31mNameError\u001b[0m: name 'num' is not defined"
     ]
    }
   ],
   "source": [
    "try:\n",
    "    quotient = num / denom\n",
    "except ZeroDivisionError:\n",
    "    print(\"Oops! Divide by 0\")"
   ]
  },
  {
   "cell_type": "code",
   "execution_count": 37,
   "metadata": {},
   "outputs": [
    {
     "name": "stdout",
     "output_type": "stream",
     "text": [
      "Please enter a number:-4\n",
      "Expected a number but got: -4\n"
     ]
    }
   ],
   "source": [
    "def sqrt(n):\n",
    "    if n < 0:\n",
    "        raise ValueError(\"sqrt of negative number\")\n",
    "    return n ** 0.5\n",
    "\n",
    "def main():\n",
    "    try:\n",
    "        val = input(\"Please enter a number:\")\n",
    "        num = float(val)\n",
    "        print(sqrt(num))\n",
    "    except ValueError:\n",
    "        print(f\"Expected a number but got: {val}\")\n",
    "        \n",
    "main()"
   ]
  },
  {
   "cell_type": "code",
   "execution_count": null,
   "metadata": {
    "collapsed": true
   },
   "outputs": [],
   "source": []
  },
  {
   "cell_type": "code",
   "execution_count": 34,
   "metadata": {},
   "outputs": [
    {
     "name": "stdout",
     "output_type": "stream",
     "text": [
      "Please enter a number:-4\n",
      "sqrt() expects only positive numbers\n"
     ]
    }
   ],
   "source": [
    "def sqrt(n):\n",
    "    if n < 0:\n",
    "        raise ValueError(\"sqrt of negative number\")\n",
    "    return n ** 0.5\n",
    "\n",
    "def main():\n",
    "    val = input(\"Please enter a number:\")\n",
    "    try: \n",
    "        num = float(val)\n",
    "    except ValueError:\n",
    "        print(\"Expected a number but got:\", val)\n",
    "    else:\n",
    "        try: \n",
    "            print(sqrt(num))\n",
    "        except ValueError:\n",
    "            print(\"sqrt() expects only positive numbers\")\n",
    "    \n",
    "main()"
   ]
  },
  {
   "cell_type": "code",
   "execution_count": 44,
   "metadata": {},
   "outputs": [
    {
     "ename": "ValueError",
     "evalue": "sqrt of negative number",
     "output_type": "error",
     "traceback": [
      "\u001b[0;31m---------------------------------------------------------------------------\u001b[0m",
      "\u001b[0;31mValueError\u001b[0m                                Traceback (most recent call last)",
      "\u001b[0;32m<ipython-input-44-81e502399c9e>\u001b[0m in \u001b[0;36m<module>\u001b[0;34m()\u001b[0m\n\u001b[1;32m      5\u001b[0m     \u001b[0;32mreturn\u001b[0m \u001b[0mn\u001b[0m \u001b[0;34m**\u001b[0m \u001b[0;36m0.5\u001b[0m\u001b[0;34m\u001b[0m\u001b[0m\n\u001b[1;32m      6\u001b[0m \u001b[0;34m\u001b[0m\u001b[0m\n\u001b[0;32m----> 7\u001b[0;31m \u001b[0msqrt\u001b[0m\u001b[0;34m(\u001b[0m\u001b[0;34m-\u001b[0m\u001b[0;36m4\u001b[0m\u001b[0;34m)\u001b[0m\u001b[0;34m\u001b[0m\u001b[0m\n\u001b[0m",
      "\u001b[0;32m<ipython-input-44-81e502399c9e>\u001b[0m in \u001b[0;36msqrt\u001b[0;34m(n)\u001b[0m\n\u001b[1;32m      1\u001b[0m \u001b[0;32mdef\u001b[0m \u001b[0msqrt\u001b[0m\u001b[0;34m(\u001b[0m\u001b[0mn\u001b[0m\u001b[0;34m)\u001b[0m\u001b[0;34m:\u001b[0m\u001b[0;34m\u001b[0m\u001b[0m\n\u001b[1;32m      2\u001b[0m     \u001b[0;32mif\u001b[0m \u001b[0mn\u001b[0m \u001b[0;34m<\u001b[0m \u001b[0;36m0\u001b[0m\u001b[0;34m:\u001b[0m\u001b[0;34m\u001b[0m\u001b[0m\n\u001b[0;32m----> 3\u001b[0;31m         \u001b[0;32mraise\u001b[0m \u001b[0mValueError\u001b[0m\u001b[0;34m(\u001b[0m\u001b[0;34m\"sqrt of negative number\"\u001b[0m\u001b[0;34m)\u001b[0m\u001b[0;34m\u001b[0m\u001b[0m\n\u001b[0m\u001b[1;32m      4\u001b[0m     \u001b[0mprint\u001b[0m\u001b[0;34m(\u001b[0m\u001b[0;34mf\"sqrt({n}) == {n ** 0.5}\"\u001b[0m\u001b[0;34m)\u001b[0m\u001b[0;34m\u001b[0m\u001b[0m\n\u001b[1;32m      5\u001b[0m     \u001b[0;32mreturn\u001b[0m \u001b[0mn\u001b[0m \u001b[0;34m**\u001b[0m \u001b[0;36m0.5\u001b[0m\u001b[0;34m\u001b[0m\u001b[0m\n",
      "\u001b[0;31mValueError\u001b[0m: sqrt of negative number"
     ]
    }
   ],
   "source": [
    "def sqrt(n):\n",
    "    if n < 0:\n",
    "        raise ValueError(\"sqrt of negative number\")\n",
    "    print(f\"sqrt({n}) == {n ** 0.5}\")\n",
    "    return n ** 0.5\n",
    "\n",
    "sqrt(-4)"
   ]
  },
  {
   "cell_type": "code",
   "execution_count": 47,
   "metadata": {},
   "outputs": [
    {
     "name": "stdout",
     "output_type": "stream",
     "text": [
      "Caught exception in outer sqrt of negative number\n",
      "leaving outer()\n"
     ]
    }
   ],
   "source": [
    "def sqrt(n):\n",
    "    if n < 0:\n",
    "        raise ValueError(\"sqrt of negative number\")\n",
    "    print(f\"sqrt({n})={n ** 0.5}\")\n",
    "    \n",
    "def inner(n):\n",
    "    sqrt(n)\n",
    "    print(\"leaving inner()\")\n",
    "    \n",
    "def outer(n):\n",
    "    try:\n",
    "        inner(n)\n",
    "    except ValueError as e:\n",
    "        print(\"Caught exception in outer\", e)\n",
    "    print(\"leaving outer()\")\n",
    "    \n",
    "outer(-4)"
   ]
  },
  {
   "cell_type": "code",
   "execution_count": 45,
   "metadata": {},
   "outputs": [
    {
     "name": "stdout",
     "output_type": "stream",
     "text": [
      "Caught exception in outer sqrt of negative number\n",
      "leaving outer()\n"
     ]
    }
   ],
   "source": [
    "def sqrt(n):\n",
    "    if n < 0:\n",
    "        raise ValueError(\"sqrt of negative number\")\n",
    "    print(f\"sqrt({n}) == {n ** 0.5}\")\n",
    "    \n",
    "def inner(n):\n",
    "    sqrt(n)\n",
    "    print(\"leaving inner()\")\n",
    "    \n",
    "def outer(n):\n",
    "    try:\n",
    "        inner(n)\n",
    "    except ValueError as e:\n",
    "        print(\"Caught exception in outer\", e)\n",
    "    print(\"leaving outer()\")\n",
    "    \n",
    "outer(-4)"
   ]
  },
  {
   "cell_type": "code",
   "execution_count": 38,
   "metadata": {},
   "outputs": [
    {
     "ename": "NegativeInputError",
     "evalue": "Found negative value: -3",
     "output_type": "error",
     "traceback": [
      "\u001b[0;31m---------------------------------------------------------------------------\u001b[0m",
      "\u001b[0;31mNegativeInputError\u001b[0m                        Traceback (most recent call last)",
      "\u001b[0;32m<ipython-input-38-0b5bc2a8fe00>\u001b[0m in \u001b[0;36m<module>\u001b[0;34m()\u001b[0m\n\u001b[1;32m      9\u001b[0m         \u001b[0;32mreturn\u001b[0m \u001b[0mvalue\u001b[0m\u001b[0;34m\u001b[0m\u001b[0m\n\u001b[1;32m     10\u001b[0m \u001b[0;34m\u001b[0m\u001b[0m\n\u001b[0;32m---> 11\u001b[0;31m \u001b[0mcheck_positive\u001b[0m\u001b[0;34m(\u001b[0m\u001b[0;34m-\u001b[0m\u001b[0;36m3\u001b[0m\u001b[0;34m)\u001b[0m\u001b[0;34m\u001b[0m\u001b[0m\n\u001b[0m",
      "\u001b[0;32m<ipython-input-38-0b5bc2a8fe00>\u001b[0m in \u001b[0;36mcheck_positive\u001b[0;34m(value)\u001b[0m\n\u001b[1;32m      5\u001b[0m     \u001b[0;32mif\u001b[0m \u001b[0mvalue\u001b[0m \u001b[0;34m<\u001b[0m \u001b[0;36m0\u001b[0m\u001b[0;34m:\u001b[0m\u001b[0;34m\u001b[0m\u001b[0m\n\u001b[1;32m      6\u001b[0m         \u001b[0mmsg\u001b[0m \u001b[0;34m=\u001b[0m \u001b[0;34mf\"Found negative value: {str(value)}\"\u001b[0m\u001b[0;34m\u001b[0m\u001b[0m\n\u001b[0;32m----> 7\u001b[0;31m         \u001b[0;32mraise\u001b[0m \u001b[0mNegativeInputError\u001b[0m\u001b[0;34m(\u001b[0m\u001b[0mmsg\u001b[0m\u001b[0;34m)\u001b[0m\u001b[0;34m\u001b[0m\u001b[0m\n\u001b[0m\u001b[1;32m      8\u001b[0m     \u001b[0;32melse\u001b[0m\u001b[0;34m:\u001b[0m\u001b[0;34m\u001b[0m\u001b[0m\n\u001b[1;32m      9\u001b[0m         \u001b[0;32mreturn\u001b[0m \u001b[0mvalue\u001b[0m\u001b[0;34m\u001b[0m\u001b[0m\n",
      "\u001b[0;31mNegativeInputError\u001b[0m: Found negative value: -3"
     ]
    }
   ],
   "source": [
    "class NegativeInputError(Exception):    \n",
    "    \"\"\" Define a user defined exception \"\"\"  \n",
    "    \n",
    "def check_positive(value):\n",
    "    if value < 0:\n",
    "        msg = f\"Found negative value: {str(value)}\"\n",
    "        raise NegativeInputError(msg)    \n",
    "    else:\n",
    "        return value\n",
    "\n",
    "check_positive(-3)"
   ]
  },
  {
   "cell_type": "code",
   "execution_count": null,
   "metadata": {
    "collapsed": true
   },
   "outputs": [],
   "source": []
  }
 ],
 "metadata": {
  "kernelspec": {
   "display_name": "Python 3",
   "language": "python",
   "name": "python3"
  },
  "language_info": {
   "codemirror_mode": {
    "name": "ipython",
    "version": 3
   },
   "file_extension": ".py",
   "mimetype": "text/x-python",
   "name": "python",
   "nbconvert_exporter": "python",
   "pygments_lexer": "ipython3",
   "version": "3.8.3"
  }
 },
 "nbformat": 4,
 "nbformat_minor": 1
}
