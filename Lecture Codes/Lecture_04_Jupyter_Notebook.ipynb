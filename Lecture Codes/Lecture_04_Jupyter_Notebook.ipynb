{
 "cells": [
  {
   "cell_type": "code",
   "execution_count": 1,
   "metadata": {
    "collapsed": true
   },
   "outputs": [],
   "source": [
    "# Lecture 04 Examples"
   ]
  },
  {
   "cell_type": "code",
   "execution_count": 3,
   "metadata": {},
   "outputs": [],
   "source": [
    "from typing import List, Dict, Set, Tuple"
   ]
  },
  {
   "cell_type": "code",
   "execution_count": 7,
   "metadata": {},
   "outputs": [],
   "source": [
    "# Examples of Python sequences\n",
    "\"We can iterate through characters in strings\"\n",
    "\n",
    "# iterate through items in a list\n",
    "colors: List[str] = ['red',  'orange',  'yellow',  'blue']\n",
    "\n",
    "# iterate through the keys, values, or keys/values in a dict\n",
    "eng2sp: Dict[str, str] = {'one': 'uno', 'three': 'tres', 'two': 'dos'}\n",
    "\n",
    "# iterate through items in a set\n",
    "uniq: Set[str] = {'Python', '!Java', \"Swift\", \"C++\"}"
   ]
  },
  {
   "cell_type": "code",
   "execution_count": 9,
   "metadata": {},
   "outputs": [
    {
     "name": "stdout",
     "output_type": "stream",
     "text": [
      "0\n",
      "1\n",
      "2\n"
     ]
    }
   ],
   "source": [
    "small_ints: List[int] = [0, 1, 2]\n",
    "\n",
    "for i in small_ints:\n",
    "    print(i)"
   ]
  },
  {
   "cell_type": "code",
   "execution_count": 11,
   "metadata": {},
   "outputs": [
    {
     "name": "stdout",
     "output_type": "stream",
     "text": [
      "0\n",
      "1\n",
      "2\n",
      "total = 3\n"
     ]
    }
   ],
   "source": [
    "small_ints: List[int] = [0, 1, 2]\n",
    "\n",
    "total: int = 0\n",
    "for i in small_ints:\n",
    "    print(i)\n",
    "    total += i\n",
    "print(f\"total = {total}\")"
   ]
  },
  {
   "cell_type": "code",
   "execution_count": 12,
   "metadata": {
    "collapsed": true
   },
   "outputs": [],
   "source": [
    "small_ints: List[int] = [0, 1, 2]"
   ]
  },
  {
   "cell_type": "code",
   "execution_count": null,
   "metadata": {
    "collapsed": true
   },
   "outputs": [],
   "source": [
    "for i in range(5):\n",
    "    print(i)   # what is printed?\n",
    "\n",
    "# sequence from 0 up to, but NOT including n\n",
    "range(n)\n",
    "\n",
    "# start at 'from' up to, NOT including 'to'\n",
    "range(from, to)\n",
    "\n",
    "# start at 'from' up to, NOT including 'to', increment by step\n",
    "range(from, to, step) "
   ]
  },
  {
   "cell_type": "code",
   "execution_count": 13,
   "metadata": {},
   "outputs": [
    {
     "data": {
      "text/plain": [
       "range(0, 5)"
      ]
     },
     "execution_count": 13,
     "metadata": {},
     "output_type": "execute_result"
    }
   ],
   "source": [
    "range(5)"
   ]
  },
  {
   "cell_type": "code",
   "execution_count": 14,
   "metadata": {},
   "outputs": [
    {
     "data": {
      "text/plain": [
       "[0, 1, 2, 3, 4]"
      ]
     },
     "execution_count": 14,
     "metadata": {},
     "output_type": "execute_result"
    }
   ],
   "source": [
    "list(range(5))"
   ]
  },
  {
   "cell_type": "code",
   "execution_count": 15,
   "metadata": {},
   "outputs": [
    {
     "data": {
      "text/plain": [
       "[3, 4]"
      ]
     },
     "execution_count": 15,
     "metadata": {},
     "output_type": "execute_result"
    }
   ],
   "source": [
    "list(range(3, 5))"
   ]
  },
  {
   "cell_type": "code",
   "execution_count": 16,
   "metadata": {},
   "outputs": [
    {
     "data": {
      "text/plain": [
       "[3, 6, 9]"
      ]
     },
     "execution_count": 16,
     "metadata": {},
     "output_type": "execute_result"
    }
   ],
   "source": [
    "list(range(3, 10, 3))"
   ]
  },
  {
   "cell_type": "code",
   "execution_count": 17,
   "metadata": {},
   "outputs": [
    {
     "data": {
      "text/plain": [
       "[0, -1, -2, -3, -4]"
      ]
     },
     "execution_count": 17,
     "metadata": {},
     "output_type": "execute_result"
    }
   ],
   "source": [
    "list(range(0, -5, -1))"
   ]
  },
  {
   "cell_type": "code",
   "execution_count": 18,
   "metadata": {
    "collapsed": true
   },
   "outputs": [],
   "source": [
    "def sum_range(start: int, end: int) -> int:\n",
    "    \"\"\" Return the sum from start up to but not including end \"\"\"\n",
    "    total: int = 0\n",
    "    for item in range(start, end):\n",
    "        total += item\n",
    "    return total\n",
    "\n",
    "assert sum_range(1, 1) == 0\n",
    "assert sum_range(1, 5) == 10\n",
    "assert sum_range(1, 2) == 1"
   ]
  },
  {
   "cell_type": "code",
   "execution_count": 19,
   "metadata": {
    "collapsed": true
   },
   "outputs": [],
   "source": [
    "def py_sum_range(start: int, end: int) -> int:\n",
    "    \"\"\" Return the sum from start up to but not including end \"\"\"\n",
    "    return sum(range(start, end))\n",
    "\n",
    "assert py_sum_range(1, 1) == 0\n",
    "assert py_sum_range(1, 5) == 10\n",
    "assert py_sum_range(1, 2) == 1"
   ]
  },
  {
   "cell_type": "code",
   "execution_count": 20,
   "metadata": {},
   "outputs": [
    {
     "name": "stdout",
     "output_type": "stream",
     "text": [
      "P\n",
      "y\n",
      "t\n",
      "h\n",
      "o\n",
      "n\n"
     ]
    }
   ],
   "source": [
    "for c in \"Python\":\n",
    "    print(c)"
   ]
  },
  {
   "cell_type": "code",
   "execution_count": 21,
   "metadata": {},
   "outputs": [
    {
     "name": "stdout",
     "output_type": "stream",
     "text": [
      "0 P\n",
      "1 y\n",
      "2 t\n",
      "3 h\n",
      "4 o\n",
      "5 n\n"
     ]
    }
   ],
   "source": [
    "for offset, c in enumerate(\"Python\"):\n",
    "    print(offset, c)"
   ]
  },
  {
   "cell_type": "code",
   "execution_count": 22,
   "metadata": {
    "collapsed": true
   },
   "outputs": [],
   "source": [
    "def string_length(s: str) -> int:\n",
    "    cnt: int = 0\n",
    "    for c in s:\n",
    "        cnt += 1\n",
    "    return cnt\n",
    "\n",
    "assert string_length('Python') == 6\n",
    "assert string_length('') == 0\n",
    "assert string_length('Python') == len('Python')"
   ]
  },
  {
   "cell_type": "code",
   "execution_count": 24,
   "metadata": {
    "collapsed": true
   },
   "outputs": [],
   "source": [
    "def in_string(target: str, string: str) -> int:\n",
    "    \"\"\" Check if target is in str.        \n",
    "        Return the offset from the beginning of the string \n",
    "        or -1 if not found\n",
    "    \"\"\"\n",
    "    for offset, c in enumerate(string):\n",
    "        if c == target:\n",
    "            return offset\n",
    "    return -1  # if here then we didn’t find the target\n",
    "\n",
    "assert in_string('P', 'Python') == 0  \n",
    "assert in_string('t', 'Python') == 2   \n",
    "assert in_string('x', 'Python') == -1\n",
    "assert in_string('x', '') == -1"
   ]
  },
  {
   "cell_type": "code",
   "execution_count": 23,
   "metadata": {},
   "outputs": [
    {
     "name": "stdout",
     "output_type": "stream",
     "text": [
      "h\n",
      "e\n",
      "l\n",
      "l\n",
      "o\n"
     ]
    },
    {
     "data": {
      "text/plain": [
       "str"
      ]
     },
     "execution_count": 23,
     "metadata": {},
     "output_type": "execute_result"
    }
   ],
   "source": [
    "for c in \"hello\":\n",
    "    print(c)\n",
    "    \n",
    "type(c)"
   ]
  },
  {
   "cell_type": "code",
   "execution_count": 25,
   "metadata": {},
   "outputs": [
    {
     "name": "stdout",
     "output_type": "stream",
     "text": [
      "0 zero zero\n",
      "1 one uno\n",
      "2 two dos\n"
     ]
    }
   ],
   "source": [
    "seq1 = range(3) # [0, 1, 2]\n",
    "seq2: List[str] = ['zero', 'one', 'two', 'three']\n",
    "seq3: List[str] = ['zero', 'uno', 'dos', 'tres', 'quatro']\n",
    "    \n",
    "for digit, english, spanish in zip(seq1, seq2, seq3):\n",
    "        print(digit, english, spanish)"
   ]
  },
  {
   "cell_type": "code",
   "execution_count": 26,
   "metadata": {
    "collapsed": true
   },
   "outputs": [],
   "source": [
    "def sum_range_while(start: int, end: int) -> int:\n",
    "    \"\"\" calculate the sum of the integers starting at\n",
    "        start and up to, but not including end\n",
    "    \"\"\"    \n",
    "    total: int = 0\n",
    "    while start < end:\n",
    "        total += start\n",
    "        start += 1\n",
    "    return total\n",
    "\n",
    "assert sum_range_while(1,1) == 0\n",
    "assert sum_range_while(1,5) == 10\n",
    "assert sum_range_while(1,2) == 1"
   ]
  },
  {
   "cell_type": "code",
   "execution_count": 27,
   "metadata": {},
   "outputs": [
    {
     "name": "stdout",
     "output_type": "stream",
     "text": [
      "0\n",
      "1\n",
      "2\n"
     ]
    }
   ],
   "source": [
    "i: int = 0\n",
    "while i < 3:\n",
    "    print(i)\n",
    "    i += 1"
   ]
  },
  {
   "cell_type": "code",
   "execution_count": 28,
   "metadata": {},
   "outputs": [
    {
     "ename": "AssertionError",
     "evalue": "",
     "output_type": "error",
     "traceback": [
      "\u001b[0;31m---------------------------------------------------------------------------\u001b[0m",
      "\u001b[0;31mAssertionError\u001b[0m                            Traceback (most recent call last)",
      "\u001b[0;32m<ipython-input-28-62dbefc7a27b>\u001b[0m in \u001b[0;36m<module>\u001b[0;34m\u001b[0m\n\u001b[1;32m     10\u001b[0m \u001b[0;32massert\u001b[0m \u001b[0mdigits\u001b[0m\u001b[0;34m(\u001b[0m\u001b[0;36m42\u001b[0m\u001b[0;34m)\u001b[0m \u001b[0;34m==\u001b[0m \u001b[0;36m2\u001b[0m\u001b[0;34m\u001b[0m\u001b[0;34m\u001b[0m\u001b[0m\n\u001b[1;32m     11\u001b[0m \u001b[0;32massert\u001b[0m \u001b[0mdigits\u001b[0m\u001b[0;34m(\u001b[0m\u001b[0;36m123456789\u001b[0m\u001b[0;34m)\u001b[0m \u001b[0;34m==\u001b[0m \u001b[0;36m9\u001b[0m\u001b[0;34m\u001b[0m\u001b[0;34m\u001b[0m\u001b[0m\n\u001b[0;32m---> 12\u001b[0;31m \u001b[0;32massert\u001b[0m \u001b[0mdigits\u001b[0m\u001b[0;34m(\u001b[0m\u001b[0;36m0\u001b[0m\u001b[0;34m)\u001b[0m \u001b[0;34m==\u001b[0m \u001b[0;36m1\u001b[0m\u001b[0;34m\u001b[0m\u001b[0;34m\u001b[0m\u001b[0m\n\u001b[0m",
      "\u001b[0;31mAssertionError\u001b[0m: "
     ]
    }
   ],
   "source": [
    "def digits(n: int) -> int:\n",
    "    \"\"\" return the number of digits in n \"\"\"\n",
    "    total: int = 0        \n",
    "    while n > 0:\n",
    "        total += 1\n",
    "        n //= 10              \n",
    "    return total\n",
    "\n",
    "assert digits(100) == 3\n",
    "assert digits(42) == 2\n",
    "assert digits(123456789) == 9\n",
    "assert digits(0) == 1"
   ]
  },
  {
   "cell_type": "code",
   "execution_count": 31,
   "metadata": {},
   "outputs": [
    {
     "name": "stdout",
     "output_type": "stream",
     "text": [
      "n=123\n",
      "n=12\n",
      "n=1\n"
     ]
    },
    {
     "data": {
      "text/plain": [
       "3"
      ]
     },
     "execution_count": 31,
     "metadata": {},
     "output_type": "execute_result"
    }
   ],
   "source": [
    "def digits(n: int) -> int:\n",
    "    \"\"\" return the number of digits in n \"\"\"\n",
    "    total: int = 0        \n",
    "    while n > 0:\n",
    "        print(f\"n={n}\")\n",
    "        total += 1\n",
    "        n //= 10              \n",
    "    return total\n",
    "\n",
    "digits(123)"
   ]
  },
  {
   "cell_type": "code",
   "execution_count": 32,
   "metadata": {},
   "outputs": [
    {
     "data": {
      "text/plain": [
       "0"
      ]
     },
     "execution_count": 32,
     "metadata": {},
     "output_type": "execute_result"
    }
   ],
   "source": [
    "def digits(n: int) -> int:\n",
    "    \"\"\" return the number of digits in n \"\"\"\n",
    "    total: int = 0        \n",
    "    while n > 0:\n",
    "        print(f\"n={n}\")\n",
    "        total += 1\n",
    "        n //= 10              \n",
    "    return total\n",
    "\n",
    "digits(0)"
   ]
  },
  {
   "cell_type": "code",
   "execution_count": 33,
   "metadata": {},
   "outputs": [
    {
     "name": "stdout",
     "output_type": "stream",
     "text": [
      "n=0\n"
     ]
    },
    {
     "data": {
      "text/plain": [
       "1"
      ]
     },
     "execution_count": 33,
     "metadata": {},
     "output_type": "execute_result"
    }
   ],
   "source": [
    "def digits(n: int) -> int:\n",
    "    \"\"\" return the number of digits in n \"\"\"\n",
    "    n = abs(n) # absolute value\n",
    "    total: int = 1        \n",
    "    while True:\n",
    "        print(f\"n={n}\")\n",
    "        n //= 10\n",
    "        if n <= 0:\n",
    "            break\n",
    "        else:\n",
    "            total += 1                 \n",
    "    return total\n",
    "\n",
    "digits(0)"
   ]
  },
  {
   "cell_type": "code",
   "execution_count": 34,
   "metadata": {
    "collapsed": true
   },
   "outputs": [],
   "source": [
    "def digits(n: int) -> int:\n",
    "    \"\"\" return the number of digits in n \"\"\"\n",
    "    return len(str(abs(n)))\n",
    "\n",
    "assert digits(100) == 3\n",
    "assert digits(42) == 2\n",
    "assert digits(0) == 1\n",
    "assert digits(-32) == 2"
   ]
  },
  {
   "cell_type": "code",
   "execution_count": 35,
   "metadata": {},
   "outputs": [
    {
     "name": "stdout",
     "output_type": "stream",
     "text": [
      "2\n",
      "8\n",
      "Done\n"
     ]
    }
   ],
   "source": [
    "# print the even numbers\n",
    "for num in [2, 8, 7, 4, 9]:\n",
    "    if num % 2 == 1: # an odd number\n",
    "        break   # stop at the first odd        \n",
    "    print(num)\n",
    "         \n",
    "print('Done')"
   ]
  },
  {
   "cell_type": "code",
   "execution_count": 36,
   "metadata": {},
   "outputs": [
    {
     "name": "stdout",
     "output_type": "stream",
     "text": [
      "Breaking out\n",
      "Next statement\n"
     ]
    }
   ],
   "source": [
    "def char_in_string(target: str, string: str) -> None:\n",
    "    for ch in string:\n",
    "        if ch == target:\n",
    "            print(\"Breaking out\")\n",
    "            break\n",
    "    else: # execute this block if did not break\n",
    "        print(\"Not found\")\n",
    "    print(\"Next statement\")\n",
    "\n",
    "char_in_string('y', 'Python')"
   ]
  },
  {
   "cell_type": "code",
   "execution_count": 38,
   "metadata": {},
   "outputs": [
    {
     "name": "stdout",
     "output_type": "stream",
     "text": [
      "2 is prime\n",
      "3 is prime\n",
      "5 is prime\n",
      "7 is prime\n",
      "11 is prime\n",
      "13 is prime\n",
      "17 is prime\n",
      "19 is prime\n"
     ]
    }
   ],
   "source": [
    "for i in range(2, 20):\n",
    "    for n in range(2, i):\n",
    "        if i % n == 0:\n",
    "            break\n",
    "    else:\n",
    "        print(f\"{i} is prime\") # if here, then i is prime"
   ]
  },
  {
   "cell_type": "code",
   "execution_count": 39,
   "metadata": {},
   "outputs": [
    {
     "name": "stdout",
     "output_type": "stream",
     "text": [
      "2\n",
      "8\n",
      "4\n",
      "Done\n"
     ]
    }
   ],
   "source": [
    "# print the even numbers, skip the odd numbers\n",
    "for num in [2, 8, 7, 4, 9]:\n",
    "    if num % 2 == 1: # an odd number\n",
    "        continue # skip rest of the block\n",
    "                 # process next item in the loop\n",
    "    print(num)\n",
    "         \n",
    "print('Done')"
   ]
  },
  {
   "cell_type": "code",
   "execution_count": 40,
   "metadata": {},
   "outputs": [
    {
     "name": "stdout",
     "output_type": "stream",
     "text": [
      "0 * 0 = 0\n",
      "0 * 1 = 0\n",
      "0 * 2 = 0\n",
      "1 * 0 = 0\n",
      "1 * 1 = 1\n",
      "1 * 2 = 2\n",
      "2 * 0 = 0\n",
      "2 * 1 = 2\n",
      "2 * 2 = 4\n"
     ]
    }
   ],
   "source": [
    "for row in range(3):\n",
    "    for col in range(3):\n",
    "        print(f\"{row} * {col} = {row * col}\")"
   ]
  },
  {
   "cell_type": "code",
   "execution_count": 57,
   "metadata": {},
   "outputs": [
    {
     "name": "stdout",
     "output_type": "stream",
     "text": [
      "before yield 7\n",
      "i = 7\n",
      "before yield 4\n",
      "i = 4\n",
      "before yield 3\n",
      "i = 3\n"
     ]
    }
   ],
   "source": [
    "from typing import Iterator\n",
    "\n",
    "def simple_generator() -> Iterator[int]: \n",
    "    print(\"before yield 7\")\n",
    "    yield 7\n",
    "    print(\"before yield 4\")\n",
    "    yield 4\n",
    "    print(\"before yield 3\")\n",
    "    yield 3\n",
    "    \n",
    "for i in simple_generator():    \n",
    "    print(f\"i = {i}\")    "
   ]
  },
  {
   "cell_type": "code",
   "execution_count": 58,
   "metadata": {},
   "outputs": [
    {
     "name": "stdout",
     "output_type": "stream",
     "text": [
      "0\n",
      "1\n",
      "1\n",
      "2\n",
      "3\n",
      "5\n"
     ]
    }
   ],
   "source": [
    "def fib(n: int) -> Iterator[int]:    \n",
    "    \"\"\" generate the first n Fibonacci numbers \"\"\"\n",
    "    prev2: int = 0\n",
    "    prev1: int = 1\n",
    "    for i in range(n):\n",
    "        yield prev2\n",
    "        prev2, prev1 = prev1, prev2 + prev1\n",
    "\n",
    "for i in fib(6):    \n",
    "    print(i)\n"
   ]
  },
  {
   "cell_type": "code",
   "execution_count": 59,
   "metadata": {},
   "outputs": [
    {
     "name": "stdout",
     "output_type": "stream",
     "text": [
      "main: about to call fib()\n",
      "fib(): about to yield 0\n",
      "main: consuming 0 from fib()\n",
      "fib(): following yield 0\n",
      "fib(): about to yield 1\n",
      "main: consuming 1 from fib()\n",
      "fib(): following yield 1\n",
      "fib(): about to yield 1\n",
      "main: consuming 1 from fib()\n",
      "fib(): following yield 1\n",
      "fib(): about to yield 2\n",
      "main: consuming 2 from fib()\n",
      "fib(): following yield 2\n",
      "fib(): about to yield 3\n",
      "main: consuming 3 from fib()\n",
      "fib(): following yield 3\n",
      "fib(): about to yield 5\n",
      "main: consuming 5 from fib()\n",
      "fib(): following yield 5\n",
      "all done\n"
     ]
    }
   ],
   "source": [
    "def fib(n: int) -> Iterator[int]:    \n",
    "    \"\"\" generate the first n Fibonacci numbers \"\"\"\n",
    "    prev2: int = 0\n",
    "    prev1: int = 1\n",
    "    for i in range(n):\n",
    "        print(f\"fib(): about to yield {prev2}\")\n",
    "        yield prev2\n",
    "        print(f\"fib(): following yield {prev2}\")\n",
    "        prev2, prev1 = prev1, prev2 + prev1\n",
    "\n",
    "print(\"main: about to call fib()\")\n",
    "for i in fib(6):    \n",
    "    print(f\"main: consuming {i} from fib()\")\n",
    "print(\"all done\")"
   ]
  },
  {
   "cell_type": "code",
   "execution_count": 52,
   "metadata": {},
   "outputs": [
    {
     "name": "stdout",
     "output_type": "stream",
     "text": [
      "H\n",
      "i\n"
     ]
    }
   ],
   "source": [
    "from typing import Sequence, Any, Iterator\n",
    "\n",
    "def seq_gen(s: Sequence) -> Iterator[Any]:\n",
    "    yield from s\n",
    "    \n",
    "for item in seq_gen('Hi'):\n",
    "    print(item)"
   ]
  },
  {
   "cell_type": "code",
   "execution_count": 53,
   "metadata": {},
   "outputs": [
    {
     "name": "stdout",
     "output_type": "stream",
     "text": [
      "1\n",
      "2\n",
      "3\n"
     ]
    }
   ],
   "source": [
    "for item in seq_gen([1, 2, 3]):\n",
    "    print(item)"
   ]
  },
  {
   "cell_type": "code",
   "execution_count": 54,
   "metadata": {},
   "outputs": [
    {
     "name": "stdout",
     "output_type": "stream",
     "text": [
      "5\n",
      "6\n"
     ]
    }
   ],
   "source": [
    "for item in seq_gen(range(5, 7)):\n",
    "    print(item)"
   ]
  },
  {
   "cell_type": "code",
   "execution_count": 55,
   "metadata": {},
   "outputs": [
    {
     "name": "stdout",
     "output_type": "stream",
     "text": [
      "0\n",
      "1\n",
      "2\n",
      "1\n",
      "0\n"
     ]
    }
   ],
   "source": [
    "def updown(n: int) -> Iterator[int]:    \n",
    "    \"\"\" count up to n and back down to 0 \"\"\"\n",
    "    yield from range(n) # 0 to n-1\n",
    "    yield from range(n, -1, -1) # n to 0\n",
    "\n",
    "for i in updown(2):    \n",
    "    print(i) "
   ]
  },
  {
   "cell_type": "code",
   "execution_count": 56,
   "metadata": {},
   "outputs": [
    {
     "name": "stdout",
     "output_type": "stream",
     "text": [
      "0\n",
      "1\n",
      "2\n"
     ]
    }
   ],
   "source": [
    "def integers() -> Iterator[int]:    \n",
    "    \"\"\" An infinite sequence of integers \"\"\"\n",
    "    i = 0\n",
    "    while True:  # we can't use a for loop\n",
    "        yield i\n",
    "        i += 1\n",
    "\n",
    "# using an unbounded generator\n",
    "limit: int = 3\n",
    "for i in integers():\n",
    "    print(i)\n",
    "    limit -= 1\n",
    "    if limit <= 0:\n",
    "        break "
   ]
  },
  {
   "cell_type": "code",
   "execution_count": 60,
   "metadata": {},
   "outputs": [
    {
     "name": "stdout",
     "output_type": "stream",
     "text": [
      "0\n",
      "1\n",
      "2\n"
     ]
    }
   ],
   "source": [
    "def integers() -> Iterator[int]:    \n",
    "    \"\"\" An infinite sequence of integers \"\"\"\n",
    "    i = 0\n",
    "    while True:  # we can't use a for loop\n",
    "        yield i\n",
    "        i += 1\n",
    "        \n",
    "# using an unbounded generator\n",
    "gen: Iterator[int] = integers()\n",
    "for i in range(3):\n",
    "    print(next(gen))  # next(gen) gets the next value"
   ]
  },
  {
   "cell_type": "code",
   "execution_count": null,
   "metadata": {
    "collapsed": true
   },
   "outputs": [],
   "source": []
  }
 ],
 "metadata": {
  "kernelspec": {
   "display_name": "py37",
   "language": "python",
   "name": "py37"
  },
  "language_info": {
   "codemirror_mode": {
    "name": "ipython",
    "version": 3
   },
   "file_extension": ".py",
   "mimetype": "text/x-python",
   "name": "python",
   "nbconvert_exporter": "python",
   "pygments_lexer": "ipython3",
   "version": "3.7.3"
  }
 },
 "nbformat": 4,
 "nbformat_minor": 2
}
